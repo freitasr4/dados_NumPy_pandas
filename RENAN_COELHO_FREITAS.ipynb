{
 "cells": [
  {
   "cell_type": "markdown",
   "metadata": {},
   "source": [
    "# Exercícios Módulo 5. Livrarias especializadas em dados (Soluções)\n",
    "\n",
    "Considerações a ter em conta:\n",
    "\n",
    "* Guardar este documento com o seguinte formato para entrega: __M5_05_nome_apelido1_apelido2__\n",
    "* Fazer os exercícios com as ferramentas vistas nas sessões. \n",
    "* Comentar o código\n",
    "* Utilizar nomes de variáveis apropriados, se vai guardar uma nota, chamar a essa variável nota, não n ou x"
   ]
  },
  {
   "cell_type": "markdown",
   "metadata": {},
   "source": [
    "**1) Trabalhar com NumPy**\n",
    "\n",
    "* Importar numpy e usar um alias para poder utilizar os seus recursos \n",
    "* Criar um array de elementos (de 10 a 100)\n",
    "* Inverter o array\n",
    "* Criar um array 3x3 com valores de 0 a 8 \n",
    "* Criar um array identidade de 6x6\n",
    "* Criar um array com valores aleatórios com o formato 3x3x3\n",
    "* Criar dois arrays, com valores aleatórios, A e B, e verificar se são iguais (há várias opções, investigar)"
   ]
  },
  {
   "cell_type": "code",
   "execution_count": 1,
   "metadata": {},
   "outputs": [],
   "source": [
    "import numpy as np"
   ]
  },
  {
   "cell_type": "code",
   "execution_count": 3,
   "metadata": {},
   "outputs": [
    {
     "name": "stdout",
     "output_type": "stream",
     "text": [
      "Array original:\n",
      "[ 10  11  12  13  14  15  16  17  18  19  20  21  22  23  24  25  26  27\n",
      "  28  29  30  31  32  33  34  35  36  37  38  39  40  41  42  43  44  45\n",
      "  46  47  48  49  50  51  52  53  54  55  56  57  58  59  60  61  62  63\n",
      "  64  65  66  67  68  69  70  71  72  73  74  75  76  77  78  79  80  81\n",
      "  82  83  84  85  86  87  88  89  90  91  92  93  94  95  96  97  98  99\n",
      " 100]\n"
     ]
    }
   ],
   "source": [
    "array1 = np.arange(10, 101)\n",
    "print(\"Array original:\")\n",
    "print(array1)"
   ]
  },
  {
   "cell_type": "code",
   "execution_count": 4,
   "metadata": {},
   "outputs": [
    {
     "name": "stdout",
     "output_type": "stream",
     "text": [
      "\n",
      "Array invertido:\n",
      "[100  99  98  97  96  95  94  93  92  91  90  89  88  87  86  85  84  83\n",
      "  82  81  80  79  78  77  76  75  74  73  72  71  70  69  68  67  66  65\n",
      "  64  63  62  61  60  59  58  57  56  55  54  53  52  51  50  49  48  47\n",
      "  46  45  44  43  42  41  40  39  38  37  36  35  34  33  32  31  30  29\n",
      "  28  27  26  25  24  23  22  21  20  19  18  17  16  15  14  13  12  11\n",
      "  10]\n"
     ]
    }
   ],
   "source": [
    "array1_invertido = np.flip(array1)\n",
    "print(\"\\nArray invertido:\")\n",
    "print(array1_invertido)"
   ]
  },
  {
   "cell_type": "code",
   "execution_count": 5,
   "metadata": {},
   "outputs": [
    {
     "name": "stdout",
     "output_type": "stream",
     "text": [
      "\n",
      "Array 3x3:\n",
      "[[0 1 2]\n",
      " [3 4 5]\n",
      " [6 7 8]]\n"
     ]
    }
   ],
   "source": [
    "array2 = np.arange(9).reshape(3,3)\n",
    "print(\"\\nArray 3x3:\")\n",
    "print(array2)"
   ]
  },
  {
   "cell_type": "code",
   "execution_count": 6,
   "metadata": {},
   "outputs": [
    {
     "name": "stdout",
     "output_type": "stream",
     "text": [
      "\n",
      "Array identidade 6x6:\n",
      "[[1. 0. 0. 0. 0. 0.]\n",
      " [0. 1. 0. 0. 0. 0.]\n",
      " [0. 0. 1. 0. 0. 0.]\n",
      " [0. 0. 0. 1. 0. 0.]\n",
      " [0. 0. 0. 0. 1. 0.]\n",
      " [0. 0. 0. 0. 0. 1.]]\n"
     ]
    }
   ],
   "source": [
    "array_identidade = np.eye(6)\n",
    "print(\"\\nArray identidade 6x6:\")\n",
    "print(array_identidade)"
   ]
  },
  {
   "cell_type": "code",
   "execution_count": 7,
   "metadata": {},
   "outputs": [
    {
     "name": "stdout",
     "output_type": "stream",
     "text": [
      "\n",
      "Array 3x3x3 aleatório:\n",
      "[[[0.37224117 0.56706491 0.3226324 ]\n",
      "  [0.62399295 0.22135292 0.99516951]\n",
      "  [0.08614152 0.29026438 0.63905953]]\n",
      "\n",
      " [[0.51983535 0.74018081 0.99172474]\n",
      "  [0.47903113 0.18612574 0.69538373]\n",
      "  [0.05755033 0.09379918 0.79910452]]\n",
      "\n",
      " [[0.23873456 0.72782005 0.16988154]\n",
      "  [0.04796199 0.14053808 0.75023893]\n",
      "  [0.07189319 0.08166422 0.55863308]]]\n"
     ]
    }
   ],
   "source": [
    "array_aleatorio = np.random.rand(3,3,3)\n",
    "print(\"\\nArray 3x3x3 aleatório:\")\n",
    "print(array_aleatorio)"
   ]
  },
  {
   "cell_type": "code",
   "execution_count": 8,
   "metadata": {},
   "outputs": [
    {
     "name": "stdout",
     "output_type": "stream",
     "text": [
      "\n",
      "Array A:\n",
      "[[0.81784495 0.82565719 0.78182082]\n",
      " [0.54433934 0.17188066 0.82660553]\n",
      " [0.61211866 0.02337056 0.89843481]]\n",
      "\n",
      "Array B:\n",
      "[[0.59020494 0.85433246 0.92448818]\n",
      " [0.46859949 0.07135503 0.45662633]\n",
      " [0.85724242 0.27152107 0.55420229]]\n",
      "\n",
      "Os arrays A e B são iguais?\n",
      "False\n"
     ]
    }
   ],
   "source": [
    "A = np.random.rand(3,3)\n",
    "B = np.random.rand(3,3)\n",
    "print(\"\\nArray A:\")\n",
    "print(A)\n",
    "print(\"\\nArray B:\")\n",
    "print(B)\n",
    "print(\"\\nOs arrays A e B são iguais?\")\n",
    "print(np.array_equal(A, B))"
   ]
  },
  {
   "cell_type": "markdown",
   "metadata": {},
   "source": [
    "**2) Seguir com NumPy**\n",
    "\n",
    "* Criar um array de 100 elementos aleatórios compreendidos entre 1 e 1000 (podem ser números inteiros). \n",
    "* Este array irá chamar-se dólares\n",
    "* Fazer a conversão dos preços em dólares do primeiro array para um segundo array que se vai chamar euros. Devemos utilizar a  seguinte conversão: \n",
    "  - 1 USD = 0,874413 EUR\n",
    "* Mostrar o resultado do array de euros, arredondando a 2 casas decimais."
   ]
  },
  {
   "cell_type": "code",
   "execution_count": 9,
   "metadata": {},
   "outputs": [
    {
     "name": "stdout",
     "output_type": "stream",
     "text": [
      "\n",
      "Array de dólares:\n",
      "[757 338 370 132 728 167 661 724 675 957 102  85 266 479 385 658  15  68\n",
      " 770 347 936 686 669  32 662 422 839 922 689 774 310 628 657 124 664 666\n",
      " 656  60 540 282 522 596 140 184 870 884 178 456 178 446 883 926 151 647\n",
      " 805 294 823 110 485 303 704 857 295 185 914 670  63 496 326 946 652 193\n",
      " 652 626 368 245 568 265 960 633 365 766 938 550 550 933 192 257 672 384\n",
      " 339  17 528 153 129 970 393 308 131  13]\n"
     ]
    }
   ],
   "source": [
    "dolares = np.random.randint(1, 1001, 100)\n",
    "print(\"\\nArray de dólares:\")\n",
    "print(dolares)"
   ]
  },
  {
   "cell_type": "code",
   "execution_count": 10,
   "metadata": {},
   "outputs": [
    {
     "name": "stdout",
     "output_type": "stream",
     "text": [
      "\n",
      "Array de euros:\n",
      "[661.93 295.55 323.53 115.42 636.57 146.03 577.99 633.08 590.23 836.81\n",
      "  89.19  74.33 232.59 418.84 336.65 575.36  13.12  59.46 673.3  303.42\n",
      " 818.45 599.85 584.98  27.98 578.86 369.   733.63 806.21 602.47 676.8\n",
      " 271.07 549.13 574.49 108.43 580.61 582.36 573.61  52.46 472.18 246.58\n",
      " 456.44 521.15 122.42 160.89 760.74 772.98 155.65 398.73 155.65 389.99\n",
      " 772.11 809.71 132.04 565.75 703.9  257.08 719.64  96.19 424.09 264.95\n",
      " 615.59 749.37 257.95 161.77 799.21 585.86  55.09 433.71 285.06 827.19\n",
      " 570.12 168.76 570.12 547.38 321.78 214.23 496.67 231.72 839.44 553.5\n",
      " 319.16 669.8  820.2  480.93 480.93 815.83 167.89 224.72 587.61 335.77\n",
      " 296.43  14.87 461.69 133.79 112.8  848.18 343.64 269.32 114.55  11.37]\n"
     ]
    }
   ],
   "source": [
    "conversao = 0.874413\n",
    "euros = dolares * conversao\n",
    "euros = np.round(euros, 2)\n",
    "print(\"\\nArray de euros:\")\n",
    "print(euros)"
   ]
  },
  {
   "cell_type": "markdown",
   "metadata": {},
   "source": [
    "**3) Trabalhar com pandas**\n",
    "\n",
    "* Importar pandas e usar um alias para poder utilizar os seus recursos.\n",
    "* Carregar como dataframe de pandas csv 05_05_imdb_títulos.csv e mostrar os seus 5 primeiros registos.\n",
    "* Carregar como dataframe de pandas o csv 05_05_imdb_elenco.csv e mostrar os seus 5 primeiros registos\n",
    "* Mostrar o número de registos do dataframe de títulos.\n",
    "* Mostrar o número de registos do dataframe de elenco.\n",
    "* Mostrar os 5 titulos mais antigas.\n",
    "* Mostrar os filmes que no título contem a palavra “Drácula”. Quantos filmes são?\n",
    "* Mostrar os 10 títulos mais comuns (que mais se repetem).\n",
    "* Mostrar qual foi o primeiro filme chamado “Romeo and Juliet”.\n",
    "* Listar todas os filmes que contenham a palavra “Exorcist”, ordenados do mais antigo ao mais recente.\n",
    "* Mostrar quantos filmes foram feitas no ano 1950.\n",
    "* Mostrar quantaos filmes foram feitas de 1950 a 1959 (inclusive).\n",
    "* Mostrar todas os papéis que teve a trilogia “The Godfather”, agrupando pelo papel e forneca a informação da quantidade de vezes esse papel apareceu (exemplo: michael corleone aparece nos 3 filmes da triologia).\n",
    "* Mostrar o elenco completo, ordenado pela classificação “n” do filme “Drácula” de 1958.\n",
    "* Mostrar quantos papéis teve “Bruce Wayne” como protagonista (Dica: Em Batman de 1989, existe Bruce Wayne e tambem Young Bruce Wayne, que deverão ambos aparecer).\n",
    "* Mostrar quantos papéis fez “Robert de Niro” na sua carreira.\n",
    "* Listagem de papéis como protagonista (n=1) que teve o ator “Charlton Heston” na década dos 60’s, ordenado  por ano de forma descendente.\n",
    "* Mostrar quantos papéis para atores teve na década 50’s.\n",
    "* Mostrar quantos papéis para atrizes teve na década 50’s."
   ]
  },
  {
   "cell_type": "code",
   "execution_count": 11,
   "metadata": {},
   "outputs": [],
   "source": [
    "import pandas as pd"
   ]
  },
  {
   "cell_type": "code",
   "execution_count": 12,
   "metadata": {},
   "outputs": [],
   "source": [
    "df_titulos = pd.read_csv('05_05_imdb_titulos.csv')\n",
    "df_elenco = pd.read_csv('05_05_imdb_elenco.csv')"
   ]
  },
  {
   "cell_type": "code",
   "execution_count": 13,
   "metadata": {},
   "outputs": [
    {
     "name": "stdout",
     "output_type": "stream",
     "text": [
      "5 primeiros registros do dataframe de títulos:\n",
      "                                   title  year\n",
      "0                                 Mahler  1974\n",
      "1           Ogon, voda i... mednye truby  1968\n",
      "2  Ana Nojoom bent alasherah wamotalagah  2014\n",
      "3                      Malu de Bicicleta  2010\n",
      "4             Nazareno Apostol: Boy Ahas  1989\n"
     ]
    }
   ],
   "source": [
    "print(\"5 primeiros registros do dataframe de títulos:\")\n",
    "print(df_titulos.head())"
   ]
  },
  {
   "cell_type": "code",
   "execution_count": 14,
   "metadata": {},
   "outputs": [
    {
     "name": "stdout",
     "output_type": "stream",
     "text": [
      "\n",
      "5 primeiros registros do dataframe de elenco:\n",
      "                  title  year      name   type                character     n\n",
      "0        Closet Monster  2015  Buffy #1  actor                  Buffy 4  31.0\n",
      "1       Suuri illusioni  1985    Homo $  actor                   Guests  22.0\n",
      "2   Battle of the Sexes  2017   $hutter  actor          Bobby Riggs Fan  10.0\n",
      "3  Secret in Their Eyes  2015   $hutter  actor          2002 Dodger Fan   NaN\n",
      "4            Steve Jobs  2015   $hutter  actor  1988 Opera House Patron   NaN\n"
     ]
    }
   ],
   "source": [
    "print(\"\\n5 primeiros registros do dataframe de elenco:\")\n",
    "print(df_elenco.head())"
   ]
  },
  {
   "cell_type": "code",
   "execution_count": 15,
   "metadata": {},
   "outputs": [
    {
     "name": "stdout",
     "output_type": "stream",
     "text": [
      "\n",
      "5 primeiros registros do dataframe de elenco:\n",
      "                  title  year      name   type                character     n\n",
      "0        Closet Monster  2015  Buffy #1  actor                  Buffy 4  31.0\n",
      "1       Suuri illusioni  1985    Homo $  actor                   Guests  22.0\n",
      "2   Battle of the Sexes  2017   $hutter  actor          Bobby Riggs Fan  10.0\n",
      "3  Secret in Their Eyes  2015   $hutter  actor          2002 Dodger Fan   NaN\n",
      "4            Steve Jobs  2015   $hutter  actor  1988 Opera House Patron   NaN\n"
     ]
    }
   ],
   "source": [
    "print(\"\\n5 primeiros registros do dataframe de elenco:\")\n",
    "print(df_elenco.head())"
   ]
  },
  {
   "cell_type": "code",
   "execution_count": 19,
   "metadata": {},
   "outputs": [
    {
     "name": "stdout",
     "output_type": "stream",
     "text": [
      "                                                    title  year\n",
      "13229                                          Miss Jerry  1894\n",
      "103233                                 The Startled Lover  1898\n",
      "133020     Reproduction of the Corbett and Jeffries Fight  1899\n",
      "51528                                Family Troubles (II)  1900\n",
      "195127  Pierrot's Problem, or How to Make a Fat Wife O...  1900\n"
     ]
    }
   ],
   "source": [
    "print(df_titulos.sort_values('year').head())"
   ]
  },
  {
   "cell_type": "code",
   "execution_count": 21,
   "metadata": {},
   "outputs": [
    {
     "name": "stdout",
     "output_type": "stream",
     "text": [
      "\n",
      "Filmes que contém a palavra 'Drácula':  0\n"
     ]
    }
   ],
   "source": [
    "dracula_filmes = df_titulos[df_titulos['title'].str.contains('Drácula', case=False)]\n",
    "print(\"\\nFilmes que contém a palavra 'Drácula': \", len(dracula_filmes))"
   ]
  },
  {
   "cell_type": "code",
   "execution_count": 22,
   "metadata": {},
   "outputs": [
    {
     "name": "stdout",
     "output_type": "stream",
     "text": [
      "\n",
      "10 títulos mais comuns:\n",
      "Hamlet                  19\n",
      "Carmen                  16\n",
      "Macbeth                 15\n",
      "Maya                    11\n",
      "The Outsider            11\n",
      "Hero                    11\n",
      "Othello                 11\n",
      "The Three Musketeers    11\n",
      "Anna                    10\n",
      "Vengeance               10\n",
      "Name: title, dtype: int64\n"
     ]
    }
   ],
   "source": [
    "print(\"\\n10 títulos mais comuns:\")\n",
    "print(df_titulos['title'].value_counts().head(10))"
   ]
  },
  {
   "cell_type": "code",
   "execution_count": 23,
   "metadata": {},
   "outputs": [
    {
     "name": "stdout",
     "output_type": "stream",
     "text": [
      "\n",
      "Primeiro filme chamado 'Romeo and Juliet':\n",
      "                   title  year\n",
      "124702  Romeo and Juliet  1916\n"
     ]
    }
   ],
   "source": [
    "primeiro_romeo_juliet = df_titulos[df_titulos['title'] == 'Romeo and Juliet'].sort_values('year').head(1)\n",
    "print(\"\\nPrimeiro filme chamado 'Romeo and Juliet':\")\n",
    "print(primeiro_romeo_juliet)"
   ]
  },
  {
   "cell_type": "code",
   "execution_count": 24,
   "metadata": {},
   "outputs": [
    {
     "name": "stdout",
     "output_type": "stream",
     "text": [
      "\n",
      "Filmes que contém a palavra 'Exorcist', ordenados do mais antigo ao mais recente:\n",
      "                                         title  year\n",
      "88003                             The Exorcist  1973\n",
      "49658                  O Exorcista de Mulheres  1974\n",
      "118920     Satanico Pandemonium: La Sexorcista  1975\n",
      "140519                Exorcist II: The Heretic  1977\n",
      "220073                        Kung Fu Exorcist  1978\n",
      "17375                         The Exorcist III  1990\n",
      "132451                        Teenage Exorcist  1991\n",
      "117797                 Exorcist: The Beginning  2004\n",
      "94189        Dominion: Prequel to the Exorcist  2005\n",
      "209250  Costa Chica: Confession of an Exorcist  2006\n",
      "86354                      Exorcist Chronicles  2007\n",
      "130686                      The Disco Exorcist  2011\n",
      "57932                      Exorcist Chronicles  2013\n",
      "69974                           Shark Exorcist  2015\n",
      "51101                            Bad Exorcists  2015\n",
      "151850                              Exorcistas  2015\n",
      "60700                      Accidental Exorcist  2016\n",
      "161093                       American Exorcist  2016\n",
      "195615                    Diary of an Exorcist  2016\n",
      "228642                  Exorcist House of Evil  2016\n"
     ]
    }
   ],
   "source": [
    "exorcist_filmes = df_titulos[df_titulos['title'].str.contains('Exorcist', case=False)].sort_values('year')\n",
    "print(\"\\nFilmes que contém a palavra 'Exorcist', ordenados do mais antigo ao mais recente:\")\n",
    "print(exorcist_filmes)"
   ]
  },
  {
   "cell_type": "code",
   "execution_count": 25,
   "metadata": {},
   "outputs": [
    {
     "name": "stdout",
     "output_type": "stream",
     "text": [
      "\n",
      "Número de filmes feitos no ano de 1950:  1081\n"
     ]
    }
   ],
   "source": [
    "filmes_1950 = len(df_titulos[df_titulos['year'] == 1950])\n",
    "print(\"\\nNúmero de filmes feitos no ano de 1950: \", filmes_1950)"
   ]
  },
  {
   "cell_type": "code",
   "execution_count": 26,
   "metadata": {},
   "outputs": [
    {
     "name": "stdout",
     "output_type": "stream",
     "text": [
      "\n",
      "Número de filmes feitos de 1950 a 1959:  12606\n"
     ]
    }
   ],
   "source": [
    "filmes_1950_1959 = len(df_titulos[(df_titulos['year'] >= 1950) & (df_titulos['year'] <= 1959)])\n",
    "print(\"\\nNúmero de filmes feitos de 1950 a 1959: \", filmes_1950_1959)"
   ]
  },
  {
   "cell_type": "code",
   "execution_count": 28,
   "metadata": {},
   "outputs": [
    {
     "name": "stdout",
     "output_type": "stream",
     "text": [
      "\n",
      "Papéis da trilogia 'The Godfather':\n",
      "character\n",
      "Al Neri                            2\n",
      "Albert Volpe                       1\n",
      "Alfio in 'Cavalleria Rusticana'    2\n",
      "Anthony 'The Ant' Squigliaro       1\n",
      "Anthony Corleone                   1\n",
      "                                  ..\n",
      "Young Hyman Roth                   1\n",
      "Young Mama Corleone                1\n",
      "Young Tessio                       1\n",
      "Young priest                       1\n",
      "Zasa's Bodyguard                   1\n",
      "Length: 262, dtype: int64\n"
     ]
    }
   ],
   "source": [
    "trilogia_godfather = df_elenco[df_elenco['title'].str.contains('The Godfather', case=False)].groupby('character').size()\n",
    "print(\"\\nPapéis da trilogia 'The Godfather':\")\n",
    "print(trilogia_godfather)"
   ]
  },
  {
   "cell_type": "code",
   "execution_count": 40,
   "metadata": {},
   "outputs": [
    {
     "name": "stdout",
     "output_type": "stream",
     "text": [
      "\n",
      "Elenco completo do filme 'Drácula' de 1958, ordenado pela classificação:\n",
      "           title  year                   name     type  \\\n",
      "485197   Dracula  1958          Peter Cushing    actor   \n",
      "1242307  Dracula  1958        Christopher Lee    actor   \n",
      "1242308  Dracula  1958        Christopher Lee    actor   \n",
      "822398   Dracula  1958          Michael Gough    actor   \n",
      "3410427  Dracula  1958      Melissa Stribling  actress   \n",
      "3069196  Dracula  1958            Carol Marsh  actress   \n",
      "2677557  Dracula  1958            Olga Dickie  actress   \n",
      "2220986  Dracula  1958        John Van Eyssen    actor   \n",
      "2777216  Dracula  1958          Valerie Gaunt  actress   \n",
      "2731182  Dracula  1958            Janina Faye  actress   \n",
      "2444220  Dracula  1958         Barbara Archer  actress   \n",
      "1285506  Dracula  1958     Charles Lloyd Pack    actor   \n",
      "1453367  Dracula  1958         George Merritt    actor   \n",
      "2357769  Dracula  1958      George Woodbridge    actor   \n",
      "171732   Dracula  1958          George Benson    actor   \n",
      "1347640  Dracula  1958         Miles Malleson    actor   \n",
      "148496   Dracula  1958       Geoffrey Bayldon    actor   \n",
      "423307   Dracula  1958              Paul Cole    actor   \n",
      "1475047  Dracula  1958              Guy Mills    actor   \n",
      "1513434  Dracula  1958  Richard (VIII) Morgan    actor   \n",
      "1524497  Dracula  1958      John (II) Mossman    actor   \n",
      "\n",
      "                        character     n  \n",
      "485197         Doctor Van Helsing   1.0  \n",
      "1242307                   Dracula   2.0  \n",
      "1242308             Count Dracula   2.0  \n",
      "822398                     Arthur   3.0  \n",
      "3410427                      Mina   4.0  \n",
      "3069196                      Lucy   5.0  \n",
      "2677557                     Gerda   6.0  \n",
      "2220986                  Jonathan   7.0  \n",
      "2777216             Vampire Woman   8.0  \n",
      "2731182                     Tania   9.0  \n",
      "2444220                      Inga  10.0  \n",
      "1285506             Doctor Seward  11.0  \n",
      "1453367                 Policeman  12.0  \n",
      "2357769                  Landlord  13.0  \n",
      "171732                   Official  14.0  \n",
      "1347640                Undertaker  15.0  \n",
      "148496                     Porter  16.0  \n",
      "423307                        Lad  17.0  \n",
      "1475047              Coach Driver   NaN  \n",
      "1513434  Coach Driver's Companion   NaN  \n",
      "1524497             Hearse Driver   NaN  \n"
     ]
    }
   ],
   "source": [
    "elenco_dracula_1958 = df_elenco[(df_elenco['title'] == 'Dracula') & (df_elenco['year'] == 1958)].sort_values('n')\n",
    "print(\"\\nElenco completo do filme 'Drácula' de 1958, ordenado pela classificação:\")\n",
    "print(elenco_dracula_1958)"
   ]
  },
  {
   "cell_type": "code",
   "execution_count": 41,
   "metadata": {},
   "outputs": [
    {
     "name": "stdout",
     "output_type": "stream",
     "text": [
      "\n",
      "Número de papéis que Bruce Wayne teve como protagonista:  49\n"
     ]
    }
   ],
   "source": [
    "bruce_wayne_papeis = df_elenco[df_elenco['character'].str.contains('Bruce Wayne', case=False)].shape[0]\n",
    "print(\"\\nNúmero de papéis que Bruce Wayne teve como protagonista: \", bruce_wayne_papeis)"
   ]
  },
  {
   "cell_type": "code",
   "execution_count": 43,
   "metadata": {},
   "outputs": [
    {
     "name": "stdout",
     "output_type": "stream",
     "text": [
      "\n",
      "Número de papéis de Robert De Niro na sua carreira:  3\n"
     ]
    }
   ],
   "source": [
    "de_niro_papeis = df_elenco[df_elenco['character'] == 'Robert De Niro'].shape[0]\n",
    "print(\"\\nNúmero de papéis de Robert De Niro na sua carreira: \", de_niro_papeis)"
   ]
  },
  {
   "cell_type": "code",
   "execution_count": 45,
   "metadata": {},
   "outputs": [
    {
     "name": "stdout",
     "output_type": "stream",
     "text": [
      "\n",
      "Papéis como protagonista de Charlton Heston na década de 60:\n"
     ]
    }
   ],
   "source": [
    "heston_60s = df_elenco[(df_elenco['name'] == 'Charlton Heston') & (df_elenco['n'] == 1) & (df_elenco['year'] >= 1960) & (df_elenco['year'] <= 1969)].sort_values('year', ascending=False)\n",
    "print(\"\\nPapéis como protagonista de Charlton Heston na década de 60:\")\n"
   ]
  },
  {
   "cell_type": "code",
   "execution_count": 46,
   "metadata": {},
   "outputs": [
    {
     "name": "stdout",
     "output_type": "stream",
     "text": [
      "\n",
      "Número de papéis para atores na década de 50:  6565\n"
     ]
    }
   ],
   "source": [
    "papeis_atores_50s = df_elenco[(df_elenco['n'] == 1) & (df_elenco['year'] >= 1950) & (df_elenco['year'] <= 1959) & (df_elenco['type'] == 'actor')].shape[0]\n",
    "print(\"\\nNúmero de papéis para atores na década de 50: \", papeis_atores_50s)"
   ]
  },
  {
   "cell_type": "code",
   "execution_count": 48,
   "metadata": {},
   "outputs": [
    {
     "name": "stdout",
     "output_type": "stream",
     "text": [
      "Número de papéis para atrizes na década de 50:  2942\n"
     ]
    }
   ],
   "source": [
    "papeis_atrizes_50s = df_elenco[(df_elenco['n'] == 1) & (df_elenco['year'] >= 1950) & (df_elenco['year'] <= 1959) & (df_elenco['type'] == 'actress')].shape[0]\n",
    "print(\"Número de papéis para atrizes na década de 50: \", papeis_atrizes_50s)\n"
   ]
  },
  {
   "cell_type": "code",
   "execution_count": null,
   "metadata": {},
   "outputs": [],
   "source": []
  }
 ],
 "metadata": {
  "anaconda-cloud": {},
  "kernelspec": {
   "display_name": "Python 3 (ipykernel)",
   "language": "python",
   "name": "python3"
  },
  "language_info": {
   "codemirror_mode": {
    "name": "ipython",
    "version": 3
   },
   "file_extension": ".py",
   "mimetype": "text/x-python",
   "name": "python",
   "nbconvert_exporter": "python",
   "pygments_lexer": "ipython3",
   "version": "3.10.9"
  }
 },
 "nbformat": 4,
 "nbformat_minor": 1
}
